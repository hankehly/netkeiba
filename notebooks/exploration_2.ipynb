{
 "cells": [
  {
   "cell_type": "code",
   "execution_count": 11,
   "metadata": {},
   "outputs": [],
   "source": [
    "import sys\n",
    "\n",
    "import pandas as pd\n",
    "\n",
    "sys.path.insert(0, '..')\n",
    "\n",
    "from trainer.util import read_netkeiba\n",
    "from trainer.pipeline import full_pipeline, full_pipeline_feature_names"
   ]
  },
  {
   "cell_type": "code",
   "execution_count": 5,
   "metadata": {},
   "outputs": [],
   "source": [
    "X, y = read_netkeiba()\n",
    "df = X.merge(y.to_frame(), left_index=True, right_index=True)"
   ]
  },
  {
   "cell_type": "code",
   "execution_count": 10,
   "metadata": {},
   "outputs": [
    {
     "data": {
      "text/html": [
       "<div>\n",
       "<style scoped>\n",
       "    .dataframe tbody tr th:only-of-type {\n",
       "        vertical-align: middle;\n",
       "    }\n",
       "\n",
       "    .dataframe tbody tr th {\n",
       "        vertical-align: top;\n",
       "    }\n",
       "\n",
       "    .dataframe thead th {\n",
       "        text-align: right;\n",
       "    }\n",
       "</style>\n",
       "<table border=\"1\" class=\"dataframe\">\n",
       "  <thead>\n",
       "    <tr style=\"text-align: right;\">\n",
       "      <th></th>\n",
       "      <th>c_meters_per_second</th>\n",
       "      <th>c_horse_weight</th>\n",
       "      <th>c_first_place_odds</th>\n",
       "      <th>c_weight_carried</th>\n",
       "      <th>c_previous_order_of_finish</th>\n",
       "      <th>h_total_wins</th>\n",
       "      <th>h_total_races</th>\n",
       "    </tr>\n",
       "  </thead>\n",
       "  <tbody>\n",
       "    <tr>\n",
       "      <th>c_meters_per_second</th>\n",
       "      <td>1.000000</td>\n",
       "      <td>0.087565</td>\n",
       "      <td>0.132848</td>\n",
       "      <td>0.190299</td>\n",
       "      <td>0.104309</td>\n",
       "      <td>-0.082139</td>\n",
       "      <td>-0.035508</td>\n",
       "    </tr>\n",
       "    <tr>\n",
       "      <th>c_horse_weight</th>\n",
       "      <td>0.087565</td>\n",
       "      <td>1.000000</td>\n",
       "      <td>-0.163120</td>\n",
       "      <td>0.348690</td>\n",
       "      <td>-0.085537</td>\n",
       "      <td>0.152745</td>\n",
       "      <td>0.028413</td>\n",
       "    </tr>\n",
       "    <tr>\n",
       "      <th>c_first_place_odds</th>\n",
       "      <td>0.132848</td>\n",
       "      <td>-0.163120</td>\n",
       "      <td>1.000000</td>\n",
       "      <td>-0.130922</td>\n",
       "      <td>0.487898</td>\n",
       "      <td>-0.032451</td>\n",
       "      <td>0.033625</td>\n",
       "    </tr>\n",
       "    <tr>\n",
       "      <th>c_weight_carried</th>\n",
       "      <td>0.190299</td>\n",
       "      <td>0.348690</td>\n",
       "      <td>-0.130922</td>\n",
       "      <td>1.000000</td>\n",
       "      <td>-0.086526</td>\n",
       "      <td>0.172356</td>\n",
       "      <td>0.159083</td>\n",
       "    </tr>\n",
       "    <tr>\n",
       "      <th>c_previous_order_of_finish</th>\n",
       "      <td>0.104309</td>\n",
       "      <td>-0.085537</td>\n",
       "      <td>0.487898</td>\n",
       "      <td>-0.086526</td>\n",
       "      <td>1.000000</td>\n",
       "      <td>-0.044333</td>\n",
       "      <td>0.017018</td>\n",
       "    </tr>\n",
       "    <tr>\n",
       "      <th>h_total_wins</th>\n",
       "      <td>-0.082139</td>\n",
       "      <td>0.152745</td>\n",
       "      <td>-0.032451</td>\n",
       "      <td>0.172356</td>\n",
       "      <td>-0.044333</td>\n",
       "      <td>1.000000</td>\n",
       "      <td>0.609304</td>\n",
       "    </tr>\n",
       "    <tr>\n",
       "      <th>h_total_races</th>\n",
       "      <td>-0.035508</td>\n",
       "      <td>0.028413</td>\n",
       "      <td>0.033625</td>\n",
       "      <td>0.159083</td>\n",
       "      <td>0.017018</td>\n",
       "      <td>0.609304</td>\n",
       "      <td>1.000000</td>\n",
       "    </tr>\n",
       "  </tbody>\n",
       "</table>\n",
       "</div>"
      ],
      "text/plain": [
       "                            c_meters_per_second  c_horse_weight  \\\n",
       "c_meters_per_second                    1.000000        0.087565   \n",
       "c_horse_weight                         0.087565        1.000000   \n",
       "c_first_place_odds                     0.132848       -0.163120   \n",
       "c_weight_carried                       0.190299        0.348690   \n",
       "c_previous_order_of_finish             0.104309       -0.085537   \n",
       "h_total_wins                          -0.082139        0.152745   \n",
       "h_total_races                         -0.035508        0.028413   \n",
       "\n",
       "                            c_first_place_odds  c_weight_carried  \\\n",
       "c_meters_per_second                   0.132848          0.190299   \n",
       "c_horse_weight                       -0.163120          0.348690   \n",
       "c_first_place_odds                    1.000000         -0.130922   \n",
       "c_weight_carried                     -0.130922          1.000000   \n",
       "c_previous_order_of_finish            0.487898         -0.086526   \n",
       "h_total_wins                         -0.032451          0.172356   \n",
       "h_total_races                         0.033625          0.159083   \n",
       "\n",
       "                            c_previous_order_of_finish  h_total_wins  \\\n",
       "c_meters_per_second                           0.104309     -0.082139   \n",
       "c_horse_weight                               -0.085537      0.152745   \n",
       "c_first_place_odds                            0.487898     -0.032451   \n",
       "c_weight_carried                             -0.086526      0.172356   \n",
       "c_previous_order_of_finish                    1.000000     -0.044333   \n",
       "h_total_wins                                 -0.044333      1.000000   \n",
       "h_total_races                                 0.017018      0.609304   \n",
       "\n",
       "                            h_total_races  \n",
       "c_meters_per_second             -0.035508  \n",
       "c_horse_weight                   0.028413  \n",
       "c_first_place_odds               0.033625  \n",
       "c_weight_carried                 0.159083  \n",
       "c_previous_order_of_finish       0.017018  \n",
       "h_total_wins                     0.609304  \n",
       "h_total_races                    1.000000  "
      ]
     },
     "execution_count": 10,
     "metadata": {},
     "output_type": "execute_result"
    }
   ],
   "source": [
    "df[['c_meters_per_second', 'c_horse_weight', 'c_first_place_odds', 'c_weight_carried', 'c_previous_order_of_finish', 'h_total_wins', 'h_total_races']].corr()"
   ]
  },
  {
   "cell_type": "code",
   "execution_count": 13,
   "metadata": {},
   "outputs": [
    {
     "name": "stderr",
     "output_type": "stream",
     "text": [
      "/Users/henryehly/src/netkeiba/.venv-3.6.7/lib/python3.6/site-packages/sklearn/preprocessing/data.py:625: DataConversionWarning: Data with input dtype int64, float64 were all converted to float64 by StandardScaler.\n",
      "  return self.partial_fit(X, y)\n",
      "/Users/henryehly/src/netkeiba/.venv-3.6.7/lib/python3.6/site-packages/sklearn/base.py:462: DataConversionWarning: Data with input dtype int64, float64 were all converted to float64 by StandardScaler.\n",
      "  return self.fit(X, **fit_params).transform(X)\n"
     ]
    }
   ],
   "source": [
    "X_prep = full_pipeline.fit_transform(X)\n",
    "df2 = pd.DataFrame(X_prep, columns=full_pipeline_feature_names)"
   ]
  },
  {
   "cell_type": "code",
   "execution_count": 19,
   "metadata": {},
   "outputs": [
    {
     "data": {
      "text/html": [
       "<div>\n",
       "<style scoped>\n",
       "    .dataframe tbody tr th:only-of-type {\n",
       "        vertical-align: middle;\n",
       "    }\n",
       "\n",
       "    .dataframe tbody tr th {\n",
       "        vertical-align: top;\n",
       "    }\n",
       "\n",
       "    .dataframe thead th {\n",
       "        text-align: right;\n",
       "    }\n",
       "</style>\n",
       "<table border=\"1\" class=\"dataframe\">\n",
       "  <thead>\n",
       "    <tr style=\"text-align: right;\">\n",
       "      <th></th>\n",
       "      <th>c_meters_per_second</th>\n",
       "      <th>h_age_days</th>\n",
       "    </tr>\n",
       "  </thead>\n",
       "  <tbody>\n",
       "    <tr>\n",
       "      <th>c_meters_per_second</th>\n",
       "      <td>1.000000</td>\n",
       "      <td>-0.089513</td>\n",
       "    </tr>\n",
       "    <tr>\n",
       "      <th>h_age_days</th>\n",
       "      <td>-0.089513</td>\n",
       "      <td>1.000000</td>\n",
       "    </tr>\n",
       "  </tbody>\n",
       "</table>\n",
       "</div>"
      ],
      "text/plain": [
       "                     c_meters_per_second  h_age_days\n",
       "c_meters_per_second             1.000000   -0.089513\n",
       "h_age_days                     -0.089513    1.000000"
      ]
     },
     "execution_count": 19,
     "metadata": {},
     "output_type": "execute_result"
    }
   ],
   "source": [
    "df2['c_meters_per_second'] = y\n",
    "df2[['c_meters_per_second', 'h_age_days']].corr()"
   ]
  }
 ],
 "metadata": {
  "kernelspec": {
   "display_name": "Python 3",
   "language": "python",
   "name": "python3"
  },
  "language_info": {
   "codemirror_mode": {
    "name": "ipython",
    "version": 3
   },
   "file_extension": ".py",
   "mimetype": "text/x-python",
   "name": "python",
   "nbconvert_exporter": "python",
   "pygments_lexer": "ipython3",
   "version": "3.6.7"
  }
 },
 "nbformat": 4,
 "nbformat_minor": 2
}
